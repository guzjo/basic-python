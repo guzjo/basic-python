{
 "cells": [
  {
   "cell_type": "markdown",
   "id": "635ea172",
   "metadata": {},
   "source": [
    "# Operadores y expresiones\n",
    "# Día 2\n",
    "# Winter genomics' Python course"
   ]
  },
  {
   "cell_type": "markdown",
   "id": "a39e9b36",
   "metadata": {},
   "source": [
    "## Diferencias entre operador y expresión\n",
    "\n",
    "### Operador: \n",
    "Símbolo que permite realizar una operación con los datos almacenados en variables. \n",
    "\n",
    "+ Tipos:\n",
    "    + Aritméticos\n",
    "    + Relacionales\n",
    "    + Lógicos\n",
    "    + Especiales (dependiendo del lenguaje de programación)\n",
    "    \n",
    "|    Símbolo    |   Significado     |\n",
    "| ------------ | ----------------|\n",
    "|        +      |        suma       |\n",
    "|        -      |       resta       |\n",
    "|        *      |  multiplicación   |\n",
    "|        /      |      división     |\n",
    "|       //      |      división entera     |\n",
    "|        %      | residuo o módulo  |\n",
    "|       **      |      potencia     |\n",
    "    \n",
    "    \n",
    "### Expresión:\n",
    "Instrucción que puede estar compuesta de operadores, variables, números y generalmente produce un resultado numérico o lógico"
   ]
  },
  {
   "cell_type": "markdown",
   "id": "861d41de",
   "metadata": {},
   "source": [
    "### Operadores aritméticos básicos"
   ]
  },
  {
   "cell_type": "code",
   "execution_count": 4,
   "id": "b42d133e",
   "metadata": {},
   "outputs": [
    {
     "name": "stdout",
     "output_type": "stream",
     "text": [
      "Escribe un número:1\n",
      "Escribe otro número:2\n",
      "2.0\n"
     ]
    }
   ],
   "source": [
    "# Anidar la función input en float para\n",
    "# que el usuario proporcione un número cualquiera:\n",
    "num1 = float(input(\"Escribe un número:\" ))\n",
    "num2 = float(input(\"Escribe otro número:\" ))\n",
    "\n",
    "print(num1 * num2)"
   ]
  },
  {
   "cell_type": "code",
   "execution_count": 9,
   "id": "6feca660",
   "metadata": {},
   "outputs": [
    {
     "data": {
      "text/plain": [
       "0"
      ]
     },
     "execution_count": 9,
     "metadata": {},
     "output_type": "execute_result"
    }
   ],
   "source": [
    "# Usar operador módulo\n",
    "200 % 200\n",
    "# lo que sobra (residuo de división) de 200 / 200"
   ]
  },
  {
   "cell_type": "code",
   "execution_count": 11,
   "id": "a3df49e5",
   "metadata": {},
   "outputs": [
    {
     "data": {
      "text/plain": [
       "2"
      ]
     },
     "execution_count": 11,
     "metadata": {},
     "output_type": "execute_result"
    }
   ],
   "source": [
    "12 % 5\n",
    "# Operador módulo\n",
    "# 12 / 5 el residuo es 2 "
   ]
  },
  {
   "cell_type": "code",
   "execution_count": 22,
   "id": "d96a909e",
   "metadata": {},
   "outputs": [
    {
     "name": "stdout",
     "output_type": "stream",
     "text": [
      "un coral de 54 cm tiene 90.0 años de vida\n"
     ]
    }
   ],
   "source": [
    "# calcular años de vida de un coral de 54 cm\n",
    "# crece 0.6 cm en un year\n",
    "\n",
    "# years\n",
    "# 1 year - 0.6 cm\n",
    "# x - 54 cm\n",
    "years = (54 * 1) // 0.6\n",
    "print(f\"un coral de 54 cm tiene {years} años de vida\")\n"
   ]
  },
  {
   "cell_type": "code",
   "execution_count": 23,
   "id": "0feccacf",
   "metadata": {},
   "outputs": [
    {
     "name": "stdout",
     "output_type": "stream",
     "text": [
      "un coral de 54 cm tiene 1080.0 meses de vida\n"
     ]
    }
   ],
   "source": [
    "# calcular meses de vida de un coral de 54 cm\n",
    "# crece 0.6 cm en 12 meses\n",
    "\n",
    "# months\n",
    "# 12 months - 0.6 cm\n",
    "# x - 54 cm\n",
    "months = (54 * 12) // 0.6\n",
    "print(f\"un coral de 54 cm tiene {months} meses de vida\")\n"
   ]
  },
  {
   "cell_type": "code",
   "execution_count": 25,
   "id": "ca2c1d73",
   "metadata": {},
   "outputs": [
    {
     "name": "stdout",
     "output_type": "stream",
     "text": [
      "un coral de 54 cm tiene 4680.0 semanas de vida\n"
     ]
    }
   ],
   "source": [
    "# calcular semanas de vida de un coral de 54 cm\n",
    "# crece 0.6 cm en 52 semanas\n",
    "\n",
    "# weeks\n",
    "# 52 weeks - 0.6 cm\n",
    "# x - 54 cm\n",
    "weeks = (54 * 52) // 0.6\n",
    "print(f\"un coral de 54 cm tiene {weeks} semanas de vida\")"
   ]
  },
  {
   "cell_type": "markdown",
   "id": "f8b5d8fe",
   "metadata": {},
   "source": [
    "### Operadores relacionales\n",
    "Realizan **operaciones de comparación**. Al utilizarlos en una expresión el \n",
    "**resultado** que arroja es de tipo **booleano** (`True` o `False`).\n",
    "\n",
    "|    Símbolo    |   Significado     |\n",
    "| :------------ | ----------------: |\n",
    "|        <      |    menor que      |\n",
    "|        >      |    mayor que      |\n",
    "|       <=      | menor o igual que |\n",
    "|       >=      | mayor o igual que |\n",
    "|       !=      |    diferente de   |\n",
    "|       ==      |      igual que    |"
   ]
  },
  {
   "cell_type": "code",
   "execution_count": 31,
   "id": "741acbce",
   "metadata": {},
   "outputs": [
    {
     "data": {
      "text/plain": [
       "False"
      ]
     },
     "execution_count": 31,
     "metadata": {},
     "output_type": "execute_result"
    }
   ],
   "source": [
    "# Ejemplo sencillo\n",
    "10 > 20"
   ]
  },
  {
   "cell_type": "code",
   "execution_count": 29,
   "id": "fe68ac06",
   "metadata": {},
   "outputs": [
    {
     "data": {
      "text/plain": [
       "True"
      ]
     },
     "execution_count": 29,
     "metadata": {},
     "output_type": "execute_result"
    }
   ],
   "source": [
    "20 > 10"
   ]
  },
  {
   "cell_type": "code",
   "execution_count": 32,
   "id": "d0856c75",
   "metadata": {},
   "outputs": [
    {
     "data": {
      "text/plain": [
       "True"
      ]
     },
     "execution_count": 32,
     "metadata": {},
     "output_type": "execute_result"
    }
   ],
   "source": [
    "15 < 30 "
   ]
  },
  {
   "cell_type": "code",
   "execution_count": 34,
   "id": "9d39252d",
   "metadata": {},
   "outputs": [
    {
     "data": {
      "text/plain": [
       "False"
      ]
     },
     "execution_count": 34,
     "metadata": {},
     "output_type": "execute_result"
    }
   ],
   "source": [
    "30 < 5 "
   ]
  },
  {
   "cell_type": "code",
   "execution_count": 36,
   "id": "94c8c8ad",
   "metadata": {},
   "outputs": [
    {
     "name": "stdout",
     "output_type": "stream",
     "text": [
      "7\n"
     ]
    }
   ],
   "source": [
    "# conocer la longitud de un string\n",
    "print(len(\"E. coli\"))"
   ]
  },
  {
   "cell_type": "code",
   "execution_count": 41,
   "id": "b0ed0d91",
   "metadata": {},
   "outputs": [
    {
     "name": "stdout",
     "output_type": "stream",
     "text": [
      "False\n",
      "True\n"
     ]
    }
   ],
   "source": [
    "# los booleanos se pueden aplicar a strings\n",
    "print(len(\"E. coli\") > 13)\n",
    "print(len(\"E. coli\") < 13)"
   ]
  },
  {
   "cell_type": "code",
   "execution_count": 47,
   "id": "a4d68bbc",
   "metadata": {},
   "outputs": [
    {
     "name": "stdout",
     "output_type": "stream",
     "text": [
      "False\n",
      "True\n",
      "False\n",
      "True\n"
     ]
    }
   ],
   "source": [
    "# Definir variables que contengan cadenas de DNA\n",
    "dna1 = \"ATCTGATCGTATGCA\"\n",
    "dna2 = \"ATCTAGATACTGACTGA\"\n",
    "\n",
    "# Comparar el tamaño de las secuencias\n",
    "# > mayor, != diferente, == igual, < menor\n",
    "print(len(dna1) > len(dna2))\n",
    "print(len(dna1) != len(dna2))\n",
    "print(len(dna1) == len(dna2))\n",
    "print(len(dna1) < len(dna2))\n"
   ]
  },
  {
   "cell_type": "code",
   "execution_count": 52,
   "id": "9cf1bfa0",
   "metadata": {},
   "outputs": [
    {
     "name": "stdout",
     "output_type": "stream",
     "text": [
      "True\n",
      "False\n"
     ]
    }
   ],
   "source": [
    "# los booleanos se pueden aplicar a listas\n",
    "# Crear listas\n",
    "lista1 = [1, 2, 3, 4, 5, 6, 7, 8, 9]\n",
    "lista2 = [\"1\", \"2\",\"3\", \"4\", \"5\", \"6\", \"7\", \"8\", \"9\", \"10\"]\n",
    "\n",
    "# Comparar contenido de las listas\n",
    "print(lista1 != lista2)\n",
    "print(lista1 == lista2)\n",
    "# La lista es distinta porque los elementos de las listas son distintos\n",
    "# No es igual por la misma razón de arriba"
   ]
  },
  {
   "cell_type": "markdown",
   "id": "862ea923",
   "metadata": {},
   "source": [
    "### Operadores lógicos\n",
    "Al utilizarlos en una expresión el **resultado es lógico**. \n",
    "Son usados cuando queremos evaluar dos expresiones. Los operadores lógicos obeceden a las tablas de verdad.\n",
    "\n",
    "|    Símbolo    |   Significado     |\n",
    "| :------------ | ----------------: |\n",
    "|    and     |    conjunción     |\n",
    "|     or    |    disyunción     |\n",
    "|    not   |     negación      |"
   ]
  },
  {
   "cell_type": "code",
   "execution_count": 57,
   "id": "8aa86705",
   "metadata": {},
   "outputs": [
    {
     "name": "stdout",
     "output_type": "stream",
     "text": [
      "False\n",
      "False\n",
      "True\n"
     ]
    }
   ],
   "source": [
    "# Ejercicio de operadores lógicos\n",
    "# USANDO AND\n",
    "# definir variables\n",
    "valor1 = 34\n",
    "valor2 = 123\n",
    "valor3 = 34\n",
    "\n",
    "# realizar operación\n",
    "print(valor1 > valor2 and valor3 == valor1) \n",
    "print(valor1 < valor2 and valor3 != valor1)\n",
    "print(valor1 < valor2 and valor3 == valor1)\n",
    "# en AND\n",
    "# si alguna condición es false, todo lo demás será false,\n",
    "# solo si las 2 condiciones son true, aparecerá true"
   ]
  },
  {
   "cell_type": "code",
   "execution_count": 73,
   "id": "a4320470",
   "metadata": {},
   "outputs": [
    {
     "name": "stdout",
     "output_type": "stream",
     "text": [
      "13\n",
      "13\n",
      "12\n",
      "True\n",
      "False\n",
      "True\n"
     ]
    }
   ],
   "source": [
    "# Usando OR\n",
    "# solo si las 2 condiciones son false, apaarecerá false\n",
    "# si alguna condición es true, lo demás sera true\n",
    "# definir variables\n",
    "gen1 = 'ATGACTGATCGAT'\n",
    "gen2 = 'ATGACTAGTATAT'\n",
    "gen3 = 'TATATATATATA'\n",
    "\n",
    "print(len(gen1))\n",
    "print(len(gen2))\n",
    "print(len(gen3))\n",
    "\n",
    "# realizar operacion con OR\n",
    "print(len(gen1) == len(gen2) or gen1 == gen3)\n",
    "print(len(gen1) != len(gen2) or gen1 == gen3)\n",
    "print(len(gen1) == len(gen2) or gen1 != gen3)"
   ]
  },
  {
   "cell_type": "code",
   "execution_count": 85,
   "id": "38751cdb",
   "metadata": {},
   "outputs": [
    {
     "name": "stdout",
     "output_type": "stream",
     "text": [
      "False\n",
      "False\n",
      "True\n",
      "Winter Genomics\n",
      "False\n",
      "0\n",
      "True\n",
      "\n",
      "True\n"
     ]
    }
   ],
   "source": [
    "# USANDO NOT\n",
    "# not muestra el resultado contrario de la expresion evaluada\n",
    "\n",
    "# algo sencillo\n",
    "print(not True)\n",
    "\n",
    "# not de una comparación \n",
    "print(1 > 100)\n",
    "print(not 1 > 100)\n",
    "\n",
    "\n",
    "# not de variables\n",
    "x = \"Winter Genomics\"\n",
    "print(x)\n",
    "print(not x)\n",
    "\n",
    "y = 0\n",
    "print(y)\n",
    "print(not y)\n",
    "\n",
    "z = \"\"\n",
    "print(z)\n",
    "print(not z)"
   ]
  },
  {
   "cell_type": "markdown",
   "id": "da164812",
   "metadata": {},
   "source": [
    "En Python si una variable es cero o está vacía se considera `Falso`, por el contrario, si tiene almacenado un valor, entonces es `Verdadero`.\n"
   ]
  },
  {
   "cell_type": "markdown",
   "id": "0f58cae6",
   "metadata": {},
   "source": [
    "## Operadores especiales\n",
    "\n",
    "* **Operadores de identidad**: Son utilizados para checar si dos valores o variables están localizadas en la misma posición de la memoria. \n",
    "En Python son `is` e `is not`. El resultado es un booleano.\n",
    "\n",
    "* **Operadores de pertenencia**: Evalúan si un valor está dentro de una secuencia (uan *string*, una lista). Las palabras reservadas son: `in` y `in not`. El resultado es un booleano."
   ]
  },
  {
   "cell_type": "code",
   "execution_count": 88,
   "id": "94527f3c",
   "metadata": {},
   "outputs": [
    {
     "name": "stdout",
     "output_type": "stream",
     "text": [
      "False\n",
      "True\n",
      "False\n",
      "True\n"
     ]
    }
   ],
   "source": [
    "# Definir variables\n",
    "x1 = 5\n",
    "x2 = 5\n",
    "\n",
    "y1 = \"Hola\"\n",
    "y2 = \"Hola\"\n",
    "\n",
    "# Operaciones\n",
    "print(x1 is y1)\n",
    "print(x1 is not y1)\n",
    "\n",
    "# En conjunto con operadores lógicos\n",
    "print(x1 is not x2)\n",
    "print(x1 is x2 )"
   ]
  },
  {
   "cell_type": "code",
   "execution_count": 95,
   "id": "412a4109",
   "metadata": {},
   "outputs": [
    {
     "name": "stdout",
     "output_type": "stream",
     "text": [
      "False\n",
      "False\n",
      "True\n",
      "True\n",
      "True\n",
      "True\n",
      "False\n",
      "False\n"
     ]
    }
   ],
   "source": [
    "# Crear una  lista\n",
    "planetas = [\"Mercurio\", \"Venus\", \"Tierra\", \"Marte\", \"Jupiter\", \"Saturno\", \"Urano\", \"Neptuno\", \"Pluton\"]\n",
    "\n",
    "# Definir variables\n",
    "satelite = \"Luna\"\n",
    "satelite2 = \"Europa\"\n",
    "\n",
    "# Operaciones\n",
    "print(satelite in planetas)\n",
    "print(satelite2 in planetas)\n",
    "\n",
    "\n",
    "# Con operador lógico not\n",
    "print(satelite2 not in planetas)\n",
    "print(satelite not in planetas)\n",
    "\n",
    "\n",
    "# Evaluado dos expresiones de pertenencia con and/or\n",
    "print(\"u\" in satelite and \"u\" in satelite2)\n",
    "print(\"a\" in satelite and \"a\" in satelite2)\n",
    "print(\"u\" in satelite and \"i\" in satelite2)\n",
    "print(\"e\" in satelite and \"o\" in satelite2)"
   ]
  }
 ],
 "metadata": {
  "kernelspec": {
   "display_name": "Python 3 (ipykernel)",
   "language": "python",
   "name": "python3"
  },
  "language_info": {
   "codemirror_mode": {
    "name": "ipython",
    "version": 3
   },
   "file_extension": ".py",
   "mimetype": "text/x-python",
   "name": "python",
   "nbconvert_exporter": "python",
   "pygments_lexer": "ipython3",
   "version": "3.10.4"
  }
 },
 "nbformat": 4,
 "nbformat_minor": 5
}
