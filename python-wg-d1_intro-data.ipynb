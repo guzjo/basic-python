{
 "cells": [
  {
   "cell_type": "markdown",
   "id": "4a27a5da",
   "metadata": {},
   "source": [
    "# Hi, this is a pynb file \n",
    "## This pynb file is based from Winter Genomics Python course\n",
    "### This is markdown text\n",
    "+ This is more text\n",
    " + And more text"
   ]
  },
  {
   "cell_type": "markdown",
   "id": "97620c97",
   "metadata": {},
   "source": [
    "Un bloque también es llamado celda o cell.\n",
    "+ Hay dos tipos:\n",
    " + Code\n",
    " + Markdown\n"
   ]
  },
  {
   "cell_type": "markdown",
   "id": "a2193f12",
   "metadata": {},
   "source": [
    "### Using print\n",
    "print is for show basic messages"
   ]
  },
  {
   "cell_type": "code",
   "execution_count": 10,
   "id": "e9fb2216",
   "metadata": {},
   "outputs": [
    {
     "name": "stdout",
     "output_type": "stream",
     "text": [
      "Hello world, this is Josh\n"
     ]
    }
   ],
   "source": [
    "print(\"Hello world, this is Josh\")"
   ]
  },
  {
   "cell_type": "code",
   "execution_count": 11,
   "id": "ba6c27da",
   "metadata": {},
   "outputs": [
    {
     "name": "stdout",
     "output_type": "stream",
     "text": [
      "We are using Jupyter Notebook\n"
     ]
    }
   ],
   "source": [
    "print(\"We are using Jupyter Notebook\")"
   ]
  },
  {
   "cell_type": "markdown",
   "id": "7d9244c8",
   "metadata": {},
   "source": [
    "## Datos y Variables\n",
    "Similar a R. \n",
    "\n",
    "Los tipos de datos en Python son:\n",
    "+ Numéricos \n",
    " + Enteros (Integers): 34, 43, -12\n",
    " + Reales/Flotantes (floatings): 34.123\n",
    " + Otros: \n",
    "   + Binarios (prefijo 0b) \n",
    "   + hexadecimales (prefijo 0x) \n",
    "   + octales (prefijo 0o)\n",
    "+ Alfanuméricos (Caracteres, cadenas/strings)"
   ]
  },
  {
   "cell_type": "code",
   "execution_count": 37,
   "id": "c482a077",
   "metadata": {},
   "outputs": [],
   "source": [
    "# DATOS NUMÉRICOS ENTEROS (INTEGERS)\n",
    "entero = 34\n",
    "entero_negativo = -12"
   ]
  },
  {
   "cell_type": "code",
   "execution_count": 36,
   "id": "6efb6046",
   "metadata": {},
   "outputs": [
    {
     "name": "stdout",
     "output_type": "stream",
     "text": [
      "34\n"
     ]
    }
   ],
   "source": [
    "# mostrar valor almacenado en variable\n",
    "print(entero)"
   ]
  },
  {
   "cell_type": "code",
   "execution_count": 35,
   "id": "d30f65fc",
   "metadata": {},
   "outputs": [
    {
     "data": {
      "text/plain": [
       "int"
      ]
     },
     "execution_count": 35,
     "metadata": {},
     "output_type": "execute_result"
    }
   ],
   "source": [
    "# tipo de dato almacenado en una variable\n",
    "type(entero)"
   ]
  },
  {
   "cell_type": "code",
   "execution_count": 34,
   "id": "78a5b88e",
   "metadata": {},
   "outputs": [
    {
     "name": "stdout",
     "output_type": "stream",
     "text": [
      "<class 'int'> 34\n"
     ]
    }
   ],
   "source": [
    "# imprimir tipo de dato almacenado y también valor almacenado\n",
    "print(type(entero), entero)"
   ]
  },
  {
   "cell_type": "code",
   "execution_count": 38,
   "id": "d8a5d5a6",
   "metadata": {},
   "outputs": [],
   "source": [
    "# DATOS NUMÉRICOS FLOTANTES O REALES (SIMPLEMENTE LLEVAN DECIMALES)\n",
    "flotante = 4.123"
   ]
  },
  {
   "cell_type": "code",
   "execution_count": 41,
   "id": "5edd59e3",
   "metadata": {},
   "outputs": [
    {
     "name": "stdout",
     "output_type": "stream",
     "text": [
      "4.123\n"
     ]
    }
   ],
   "source": [
    "# mostrar valor almacenado en variable\n",
    "print(flotante)"
   ]
  },
  {
   "cell_type": "code",
   "execution_count": 43,
   "id": "2f606d57",
   "metadata": {},
   "outputs": [
    {
     "data": {
      "text/plain": [
       "float"
      ]
     },
     "execution_count": 43,
     "metadata": {},
     "output_type": "execute_result"
    }
   ],
   "source": [
    "# mostrar tipo de dato almacenado en variable\n",
    "type(flotante)"
   ]
  },
  {
   "cell_type": "code",
   "execution_count": 44,
   "id": "a0c56292",
   "metadata": {},
   "outputs": [
    {
     "name": "stdout",
     "output_type": "stream",
     "text": [
      "<class 'float'> 4.123\n"
     ]
    }
   ],
   "source": [
    "# imprimir tipo de dato almacenado y también valor almacenado\n",
    "print(type(flotante), flotante)"
   ]
  },
  {
   "cell_type": "code",
   "execution_count": 45,
   "id": "400781a7",
   "metadata": {},
   "outputs": [
    {
     "data": {
      "text/plain": [
       "'0b11111001010'"
      ]
     },
     "execution_count": 45,
     "metadata": {},
     "output_type": "execute_result"
    }
   ],
   "source": [
    "# NÚMEROS BINARIOS\n",
    "bin(1994)"
   ]
  },
  {
   "cell_type": "code",
   "execution_count": 46,
   "id": "e0400431",
   "metadata": {},
   "outputs": [
    {
     "data": {
      "text/plain": [
       "'0x7ca'"
      ]
     },
     "execution_count": 46,
     "metadata": {},
     "output_type": "execute_result"
    }
   ],
   "source": [
    "# NÚMEROS HEXADECIMALES\n",
    "hex(1994)"
   ]
  },
  {
   "cell_type": "code",
   "execution_count": 48,
   "id": "74e66503",
   "metadata": {},
   "outputs": [
    {
     "data": {
      "text/plain": [
       "'0o3712'"
      ]
     },
     "execution_count": 48,
     "metadata": {},
     "output_type": "execute_result"
    }
   ],
   "source": [
    "# NÚMEROS OCTALES\n",
    "oct(1994)"
   ]
  },
  {
   "cell_type": "code",
   "execution_count": 49,
   "id": "b2968162",
   "metadata": {},
   "outputs": [],
   "source": [
    "# VARIABLES CON CARACTERES\n",
    "cadena = \"Hola cracks, aqui Josh_777\""
   ]
  },
  {
   "cell_type": "code",
   "execution_count": 50,
   "id": "9d4a0dcf",
   "metadata": {},
   "outputs": [
    {
     "data": {
      "text/plain": [
       "str"
      ]
     },
     "execution_count": 50,
     "metadata": {},
     "output_type": "execute_result"
    }
   ],
   "source": [
    "# Ver tipo de dato almacenado\n",
    "type(cadena)"
   ]
  },
  {
   "cell_type": "code",
   "execution_count": 52,
   "id": "42d5f510",
   "metadata": {},
   "outputs": [
    {
     "name": "stdout",
     "output_type": "stream",
     "text": [
      "<class 'str'> Hola cracks, aqui Josh_777\n"
     ]
    }
   ],
   "source": [
    "# imprimir tipo de dato almacenado y también valor almacenado\n",
    "print(type(cadena), cadena)"
   ]
  },
  {
   "cell_type": "code",
   "execution_count": 59,
   "id": "a0ca86eb",
   "metadata": {},
   "outputs": [
    {
     "data": {
      "text/plain": [
       "\"Darwin's club\""
      ]
     },
     "execution_count": 59,
     "metadata": {},
     "output_type": "execute_result"
    }
   ],
   "source": [
    "# COMILLA SIMPLE DENTRO DE UN TEXTO EN VARIABLE\n",
    "cadena_2 = \"Darwin's club\"\n",
    "cadena_2"
   ]
  },
  {
   "cell_type": "code",
   "execution_count": 62,
   "id": "6779538c",
   "metadata": {},
   "outputs": [
    {
     "data": {
      "text/plain": [
       "'I LOVE PYTHON'"
      ]
     },
     "execution_count": 62,
     "metadata": {},
     "output_type": "execute_result"
    }
   ],
   "source": [
    "# CONCATENAR / UNIR CADENAS\n",
    "\"I \" + \"LOVE \" + \"PYTHON\" "
   ]
  },
  {
   "cell_type": "code",
   "execution_count": null,
   "id": "39b2848c",
   "metadata": {},
   "outputs": [],
   "source": [
    "# CONCATENAR CADENAS USANDO VARIABLES"
   ]
  },
  {
   "cell_type": "code",
   "execution_count": 3,
   "id": "e4b56d2b",
   "metadata": {},
   "outputs": [],
   "source": [
    "seq = \"AGCT\"\n",
    "seq2 = \"TCGA\""
   ]
  },
  {
   "cell_type": "code",
   "execution_count": 4,
   "id": "4d231d95",
   "metadata": {},
   "outputs": [
    {
     "data": {
      "text/plain": [
       "'AGCT'"
      ]
     },
     "execution_count": 4,
     "metadata": {},
     "output_type": "execute_result"
    }
   ],
   "source": [
    "seq"
   ]
  },
  {
   "cell_type": "code",
   "execution_count": 5,
   "id": "46bde2e6",
   "metadata": {},
   "outputs": [
    {
     "data": {
      "text/plain": [
       "'TCGA'"
      ]
     },
     "execution_count": 5,
     "metadata": {},
     "output_type": "execute_result"
    }
   ],
   "source": [
    "seq2"
   ]
  },
  {
   "cell_type": "code",
   "execution_count": 7,
   "id": "6e20dd45",
   "metadata": {},
   "outputs": [
    {
     "data": {
      "text/plain": [
       "'AGCTTCGA'"
      ]
     },
     "execution_count": 7,
     "metadata": {},
     "output_type": "execute_result"
    }
   ],
   "source": [
    "seq + seq2"
   ]
  },
  {
   "cell_type": "markdown",
   "id": "42f5be62",
   "metadata": {},
   "source": [
    "## Indexar datos en Python\n",
    "Indexar es referenciar cada elemento de un objeto al asignarle un número o un índice.\n",
    "\n",
    "\n",
    "### Rebanado de datos (Slicing)\n",
    "Consiste en tomar solo algunos de los elementos de un objeto.\n",
    "+ En Python se cuenta desde 0."
   ]
  },
  {
   "cell_type": "code",
   "execution_count": 53,
   "id": "8f3042df",
   "metadata": {},
   "outputs": [],
   "source": [
    "# MOSTRANDO EL ELEMENTO INDEXADO"
   ]
  },
  {
   "cell_type": "code",
   "execution_count": 10,
   "id": "491ec8f8",
   "metadata": {},
   "outputs": [],
   "source": [
    "otra_cadena = \"winter\""
   ]
  },
  {
   "cell_type": "code",
   "execution_count": 16,
   "id": "47404083",
   "metadata": {},
   "outputs": [
    {
     "name": "stdout",
     "output_type": "stream",
     "text": [
      "el elemento indexado como 0 'winter' es: w .\n"
     ]
    }
   ],
   "source": [
    "print(\"el elemento indexado como 0 'winter' es:\", otra_cadena[0], \".\")"
   ]
  },
  {
   "cell_type": "code",
   "execution_count": 25,
   "id": "cb8bdbac",
   "metadata": {},
   "outputs": [
    {
     "name": "stdout",
     "output_type": "stream",
     "text": [
      "el último elemento de 'winter' es: r .\n"
     ]
    }
   ],
   "source": [
    "print(\"el último elemento de 'winter' es:\", otra_cadena[-1], \".\") # también se puede cambiar a [5]"
   ]
  },
  {
   "cell_type": "code",
   "execution_count": 26,
   "id": "236781c4",
   "metadata": {},
   "outputs": [],
   "source": [
    "# REBANADO DE ELEMENTOS\n",
    "# TOMAMOS LOS ELEMENTOS DEL 1 AL 3 DE LA PALABRA WINTER (sin tomar en cuenta el elemento 0)"
   ]
  },
  {
   "cell_type": "code",
   "execution_count": 54,
   "id": "e9cd9185",
   "metadata": {
    "scrolled": true
   },
   "outputs": [
    {
     "name": "stdout",
     "output_type": "stream",
     "text": [
      "Aquí estoy tomando los elementos 1, 2, y 3 de 'winter', es decir:  ter\n"
     ]
    }
   ],
   "source": [
    "print(\"Aquí estoy tomando los elementos 1, 2, y 3 de 'winter', es decir: \", otra_cadena[3:6])"
   ]
  },
  {
   "cell_type": "code",
   "execution_count": 55,
   "id": "f104b359",
   "metadata": {},
   "outputs": [],
   "source": [
    "# FORMATO EN CADENAS\n",
    "# HACE REFERENCIA A CUANDO SE DESEA CONSTRUIR UNA FRASE UTILIZANDO ALGUNA VARIABLE EXISTENTE"
   ]
  },
  {
   "cell_type": "code",
   "execution_count": 46,
   "id": "5ea81e4f",
   "metadata": {},
   "outputs": [
    {
     "name": "stdout",
     "output_type": "stream",
     "text": [
      "la aceleración de la gravedad en la tierra es de 9.764 en m/s²\n"
     ]
    }
   ],
   "source": [
    "ace_grav = 9.764\n",
    "print(f\"la aceleración de la gravedad en la tierra es de {ace_grav} en m/s²\")"
   ]
  },
  {
   "cell_type": "markdown",
   "id": "07379311",
   "metadata": {},
   "source": [
    "## Funciones para strings"
   ]
  },
  {
   "cell_type": "code",
   "execution_count": 69,
   "id": "40f5182e",
   "metadata": {},
   "outputs": [],
   "source": [
    "# usando find"
   ]
  },
  {
   "cell_type": "code",
   "execution_count": 60,
   "id": "5d15e763",
   "metadata": {},
   "outputs": [],
   "source": [
    "otra_cadena2 = \"Me gusta programar en Python\""
   ]
  },
  {
   "cell_type": "code",
   "execution_count": 67,
   "id": "5e97744f",
   "metadata": {},
   "outputs": [
    {
     "data": {
      "text/plain": [
       "22"
      ]
     },
     "execution_count": 67,
     "metadata": {},
     "output_type": "execute_result"
    }
   ],
   "source": [
    "# El output de esto arrojará una posición\n",
    "otra_cadena2.find(\"Python\")"
   ]
  },
  {
   "cell_type": "code",
   "execution_count": 68,
   "id": "b76014bf",
   "metadata": {},
   "outputs": [],
   "source": [
    "# Usando count"
   ]
  },
  {
   "cell_type": "code",
   "execution_count": 72,
   "id": "8a334470",
   "metadata": {},
   "outputs": [
    {
     "data": {
      "text/plain": [
       "3"
      ]
     },
     "execution_count": 72,
     "metadata": {},
     "output_type": "execute_result"
    }
   ],
   "source": [
    "# cuenta los elementos que se buscan\n",
    "otra_cadena2.count(\"a\")"
   ]
  },
  {
   "cell_type": "code",
   "execution_count": 73,
   "id": "770c2267",
   "metadata": {},
   "outputs": [],
   "source": [
    "# Usando replace "
   ]
  },
  {
   "cell_type": "code",
   "execution_count": 79,
   "id": "03982420",
   "metadata": {},
   "outputs": [
    {
     "data": {
      "text/plain": [
       "'Me gusta programar en R'"
      ]
     },
     "execution_count": 79,
     "metadata": {},
     "output_type": "execute_result"
    }
   ],
   "source": [
    "otra_cadena2.replace(\"Python\", \"R\")"
   ]
  },
  {
   "cell_type": "markdown",
   "id": "eb1c9472",
   "metadata": {},
   "source": [
    "## Datos lógicos (Booleanos)"
   ]
  },
  {
   "cell_type": "code",
   "execution_count": null,
   "id": "c70d97b7",
   "metadata": {},
   "outputs": [],
   "source": [
    "# Datos lógicos"
   ]
  },
  {
   "cell_type": "code",
   "execution_count": 76,
   "id": "3b5b998a",
   "metadata": {},
   "outputs": [],
   "source": [
    "booleano_t = True"
   ]
  },
  {
   "cell_type": "code",
   "execution_count": 78,
   "id": "db6b595b",
   "metadata": {},
   "outputs": [
    {
     "name": "stdout",
     "output_type": "stream",
     "text": [
      "<class 'bool'> True\n"
     ]
    }
   ],
   "source": [
    "# imprimir tipo de dato almacenado y contenido de la variable\n",
    "print(type(booleano_t), booleano_t)"
   ]
  },
  {
   "cell_type": "markdown",
   "id": "fa46b6d2",
   "metadata": {},
   "source": [
    "# Estructuras de datos\n",
    "Colección de datos que se caracterizan por su organiziación y las operaciones que se pueden llevar a cabo en estos.\n",
    "\n",
    "Tipos:\n",
    "+ Listas\n",
    "+ Diccionarios\n",
    "+ Datasets\n",
    "+ Sets\n",
    "+ Tuplas"
   ]
  },
  {
   "cell_type": "markdown",
   "id": "b395a4c6",
   "metadata": {},
   "source": [
    "## Listas\n",
    "Características:\n",
    "+ Ordenadas\n",
    "+ Contienen diferentes tipos de datos y estructuras de datos\n",
    "+ Se puede acceder a sus elementos por indexado\n",
    "+ Son mutables (elementos pueden cambiar)\n"
   ]
  },
  {
   "cell_type": "code",
   "execution_count": 81,
   "id": "59ff55aa",
   "metadata": {},
   "outputs": [],
   "source": [
    "# nombre_lista = [<elemento1>, <elemento2>, <elemento3>..., <elementon>]"
   ]
  },
  {
   "cell_type": "code",
   "execution_count": 87,
   "id": "9a8ca1a2",
   "metadata": {},
   "outputs": [],
   "source": [
    "# creando una lista\n",
    "numeros = [1,2,3,4,5,6,7,8,9,10]\n",
    "letras = [\"A\", \"C\", \"G\", \"T\"]\n",
    "cadena = [\"Adenina\", \"Citosina\", \"Guanina\", \"Timina\"]\n",
    "mix = [1, \"uno\", 2, \"dos\", 3, \"tres\", [True, False]]\n",
    "bacterias = ['S. pyogenes', 'H.influenzae', 'S. pneumoniae', 'N. gonorrhoeae', 'N. meningitidis', '. pallidum', 'L. acidophilus','S. mutans']"
   ]
  },
  {
   "cell_type": "code",
   "execution_count": 58,
   "id": "4a23c07b",
   "metadata": {},
   "outputs": [
    {
     "data": {
      "text/plain": [
       "list"
      ]
     },
     "execution_count": 58,
     "metadata": {},
     "output_type": "execute_result"
    }
   ],
   "source": [
    "# tipo de objeto\n",
    "type(numeros)\n",
    "type(letras)\n",
    "type(cadena)\n",
    "type(mix)\n",
    "type(bacterias)"
   ]
  },
  {
   "cell_type": "markdown",
   "id": "f13ee8d0",
   "metadata": {},
   "source": [
    "### MANIPULANDO LISTAS"
   ]
  },
  {
   "cell_type": "code",
   "execution_count": 59,
   "id": "14a20b63",
   "metadata": {},
   "outputs": [
    {
     "data": {
      "text/plain": [
       "'G'"
      ]
     },
     "execution_count": 59,
     "metadata": {},
     "output_type": "execute_result"
    }
   ],
   "source": [
    "# Extraer la G de letras, la H. influenzae de bacterias \n",
    "letras[2]\n"
   ]
  },
  {
   "cell_type": "code",
   "execution_count": 60,
   "id": "ad9559b7",
   "metadata": {},
   "outputs": [
    {
     "data": {
      "text/plain": [
       "'H.influenzae'"
      ]
     },
     "execution_count": 60,
     "metadata": {},
     "output_type": "execute_result"
    }
   ],
   "source": [
    "bacterias[1]"
   ]
  },
  {
   "cell_type": "code",
   "execution_count": 61,
   "id": "d5f8084c",
   "metadata": {},
   "outputs": [],
   "source": [
    "# CAMBIAR ELEMENTOS DE LISTA DE VARIOS DATOS\n",
    "# cambiar elemento de mix (2 a 5)\n",
    "mix[2] = 5"
   ]
  },
  {
   "cell_type": "code",
   "execution_count": 62,
   "id": "265d6a16",
   "metadata": {},
   "outputs": [
    {
     "data": {
      "text/plain": [
       "[1, 'uno', 5, 'dos', 3, 'tres', [True, False]]"
      ]
     },
     "execution_count": 62,
     "metadata": {},
     "output_type": "execute_result"
    }
   ],
   "source": [
    "mix"
   ]
  },
  {
   "cell_type": "code",
   "execution_count": 63,
   "id": "37a27240",
   "metadata": {},
   "outputs": [
    {
     "data": {
      "text/plain": [
       "'. pallidum'"
      ]
     },
     "execution_count": 63,
     "metadata": {},
     "output_type": "execute_result"
    }
   ],
   "source": [
    "# cambiar una el nombre incompleto en bacterias por V. cholerae\n",
    "bacterias[5]"
   ]
  },
  {
   "cell_type": "code",
   "execution_count": 64,
   "id": "f7df2deb",
   "metadata": {},
   "outputs": [],
   "source": [
    "bacterias[5] = \"Vibrio cholerae\""
   ]
  },
  {
   "cell_type": "code",
   "execution_count": 65,
   "id": "7b6d2cff",
   "metadata": {},
   "outputs": [
    {
     "data": {
      "text/plain": [
       "'Vibrio cholerae'"
      ]
     },
     "execution_count": 65,
     "metadata": {},
     "output_type": "execute_result"
    }
   ],
   "source": [
    "bacterias[5]"
   ]
  },
  {
   "cell_type": "code",
   "execution_count": 66,
   "id": "eec823e0",
   "metadata": {},
   "outputs": [
    {
     "data": {
      "text/plain": [
       "[1, 2, 3, 4, 5, 6, 7, 8, 9, 10]"
      ]
     },
     "execution_count": 66,
     "metadata": {},
     "output_type": "execute_result"
    }
   ],
   "source": [
    "# Invertir orden de una lista\n",
    "# usamos nuestra variable numeros\n",
    "numeros"
   ]
  },
  {
   "cell_type": "code",
   "execution_count": 67,
   "id": "7204cdb8",
   "metadata": {},
   "outputs": [
    {
     "data": {
      "text/plain": [
       "[10, 9, 8, 7, 6, 5, 4, 3, 2, 1]"
      ]
     },
     "execution_count": 67,
     "metadata": {},
     "output_type": "execute_result"
    }
   ],
   "source": [
    "numeros[::-1]"
   ]
  },
  {
   "cell_type": "markdown",
   "id": "655f4a0b",
   "metadata": {},
   "source": [
    "### Lista de listas"
   ]
  },
  {
   "cell_type": "code",
   "execution_count": 97,
   "id": "c230c216",
   "metadata": {},
   "outputs": [],
   "source": [
    "# crear listas de listas\n",
    "lista_random = [numeros, letras, cadena, mix, bacterias]\n",
    "variantes = [[\"palomero_toluquenio\", \"palomero_jalisco\"], [\"gordo\", \"blando\"]]"
   ]
  },
  {
   "cell_type": "code",
   "execution_count": 71,
   "id": "75fe4064",
   "metadata": {
    "scrolled": true
   },
   "outputs": [
    {
     "data": {
      "text/plain": [
       "[[1, 2, 3, 4, 5, 6, 7, 8, 9, 10],\n",
       " ['A', 'C', 'G', 'T'],\n",
       " ['Adenina', 'Citosina', 'Guanina', 'Timina'],\n",
       " [1, 'uno', 5, 'dos', 3, 'tres', [True, False]],\n",
       " ['S. pyogenes',\n",
       "  'H.influenzae',\n",
       "  'S. pneumoniae',\n",
       "  'N. gonorrhoeae',\n",
       "  'N. meningitidis',\n",
       "  'Vibrio cholerae',\n",
       "  'L. acidophilus',\n",
       "  'S. mutans']]"
      ]
     },
     "execution_count": 71,
     "metadata": {},
     "output_type": "execute_result"
    }
   ],
   "source": [
    "lista_random"
   ]
  },
  {
   "cell_type": "code",
   "execution_count": 72,
   "id": "8920d819",
   "metadata": {},
   "outputs": [
    {
     "data": {
      "text/plain": [
       "'Vibrio cholerae'"
      ]
     },
     "execution_count": 72,
     "metadata": {},
     "output_type": "execute_result"
    }
   ],
   "source": [
    "# Acceder a un elemento de la lista en las bacterias en lista_random\n",
    "lista_random[4][5]"
   ]
  },
  {
   "cell_type": "code",
   "execution_count": 73,
   "id": "0fd1a00d",
   "metadata": {},
   "outputs": [
    {
     "data": {
      "text/plain": [
       "'palomero_toluquenio'"
      ]
     },
     "execution_count": 73,
     "metadata": {},
     "output_type": "execute_result"
    }
   ],
   "source": [
    "# Extraer primera lista y el primer elemento\n",
    "# de la lista variantes (usar 0 pq asi es en Python)\n",
    "variantes[0][0]"
   ]
  },
  {
   "cell_type": "code",
   "execution_count": 74,
   "id": "47ed1eff",
   "metadata": {},
   "outputs": [
    {
     "data": {
      "text/plain": [
       "'p'"
      ]
     },
     "execution_count": 74,
     "metadata": {},
     "output_type": "execute_result"
    }
   ],
   "source": [
    "# extraer solo la p del primer elemento anterior\n",
    "variantes[0][0][0]"
   ]
  },
  {
   "cell_type": "markdown",
   "id": "d5c5525d",
   "metadata": {},
   "source": [
    "### Funciones integradas para listas"
   ]
  },
  {
   "cell_type": "code",
   "execution_count": 92,
   "id": "5826c938",
   "metadata": {},
   "outputs": [
    {
     "data": {
      "text/plain": [
       "[1, 'uno', 2, 'dos', 3, 'tres', [True, False]]"
      ]
     },
     "execution_count": 92,
     "metadata": {},
     "output_type": "execute_result"
    }
   ],
   "source": [
    "# llamamos a nuestra lista mix\n",
    "mix"
   ]
  },
  {
   "cell_type": "code",
   "execution_count": 89,
   "id": "16bac378",
   "metadata": {},
   "outputs": [
    {
     "data": {
      "text/plain": [
       "7"
      ]
     },
     "execution_count": 89,
     "metadata": {},
     "output_type": "execute_result"
    }
   ],
   "source": [
    "# len(): muestra el número de elementos de una lista\n",
    "len(mix)"
   ]
  },
  {
   "cell_type": "code",
   "execution_count": 90,
   "id": "137ca49b",
   "metadata": {},
   "outputs": [
    {
     "data": {
      "text/plain": [
       "['A', 'C', 'G', 'T']"
      ]
     },
     "execution_count": 90,
     "metadata": {},
     "output_type": "execute_result"
    }
   ],
   "source": [
    "# append(): Agrega elementos a una lista\n",
    "# Agregamos N a letras \n",
    "letras"
   ]
  },
  {
   "cell_type": "code",
   "execution_count": 93,
   "id": "e547ef33",
   "metadata": {},
   "outputs": [
    {
     "name": "stdout",
     "output_type": "stream",
     "text": [
      "['A', 'C', 'G', 'T', 'N', 'N']\n"
     ]
    }
   ],
   "source": [
    "letras.append(\"N\")\n",
    "print(letras)"
   ]
  },
  {
   "cell_type": "code",
   "execution_count": 98,
   "id": "ba874b39",
   "metadata": {},
   "outputs": [
    {
     "name": "stdout",
     "output_type": "stream",
     "text": [
      "[['palomero_toluquenio', 'palomero_jalisco'], ['gordo', 'blando'], 'bofo']\n"
     ]
    }
   ],
   "source": [
    "# agregar elemento a variantes\n",
    "variantes.append(\"bofo\")\n",
    "print(variantes)"
   ]
  },
  {
   "cell_type": "code",
   "execution_count": 100,
   "id": "5db76dd5",
   "metadata": {},
   "outputs": [
    {
     "data": {
      "text/plain": [
       "3"
      ]
     },
     "execution_count": 100,
     "metadata": {},
     "output_type": "execute_result"
    }
   ],
   "source": [
    "# contar elementos de variantes\n",
    "len(variantes)"
   ]
  },
  {
   "cell_type": "markdown",
   "id": "083771bd",
   "metadata": {},
   "source": [
    "## Diccionarios\n",
    "Estructura de datos que permite almacenar datos como enteros, cadenas, listas e incluso funciones. Cada elemento (`value`/`valor`) tiene un identificador único (`clave`/`key`): \n",
    "\n",
    "Sintaxis: \n",
    "\n",
    "    diccionario = {'clave': 'valor'}"
   ]
  },
  {
   "cell_type": "code",
   "execution_count": 102,
   "id": "09102d68",
   "metadata": {},
   "outputs": [],
   "source": [
    "# generar un diccionario\n",
    "genes = {\"gen1\": \"ATCGTAGC\",\n",
    "         \"gen2\": \"TCTAGTACG\",\n",
    "         \"gen3\": \"TGCATGATC\"}"
   ]
  },
  {
   "cell_type": "code",
   "execution_count": 111,
   "id": "ed5c7676",
   "metadata": {},
   "outputs": [
    {
     "data": {
      "text/plain": [
       "dict_items([('gen1', 'ATCGTAGC'), ('gen2', 'TCTAGTACG'), ('gen3', 'TGCATGATC')])"
      ]
     },
     "execution_count": 111,
     "metadata": {},
     "output_type": "execute_result"
    }
   ],
   "source": [
    "# conocer elementos \n",
    "genes.items()"
   ]
  },
  {
   "cell_type": "code",
   "execution_count": 107,
   "id": "c16b808b",
   "metadata": {},
   "outputs": [
    {
     "data": {
      "text/plain": [
       "dict_keys(['gen1', 'gen2', 'gen3'])"
      ]
     },
     "execution_count": 107,
     "metadata": {},
     "output_type": "execute_result"
    }
   ],
   "source": [
    "# conocer claves de diccionarios\n",
    "genes.keys()"
   ]
  },
  {
   "cell_type": "code",
   "execution_count": 109,
   "id": "3282c19e",
   "metadata": {},
   "outputs": [
    {
     "data": {
      "text/plain": [
       "dict_values(['ATCGTAGC', 'TCTAGTACG', 'TGCATGATC'])"
      ]
     },
     "execution_count": 109,
     "metadata": {},
     "output_type": "execute_result"
    }
   ],
   "source": [
    "# conocer valores de diccionarios\n",
    "genes.values()"
   ]
  },
  {
   "cell_type": "code",
   "execution_count": 112,
   "id": "7a0a2086",
   "metadata": {},
   "outputs": [
    {
     "data": {
      "text/plain": [
       "'ATCGTAGC'"
      ]
     },
     "execution_count": 112,
     "metadata": {},
     "output_type": "execute_result"
    }
   ],
   "source": [
    "# extraer valor basando en clave\n",
    "genes[\"gen1\"]"
   ]
  },
  {
   "cell_type": "code",
   "execution_count": 114,
   "id": "7929614a",
   "metadata": {},
   "outputs": [],
   "source": [
    "# Agregar un valor a un diccionario\n",
    "genes[\"gen4\"] = \"GTCTAGAGT\""
   ]
  },
  {
   "cell_type": "code",
   "execution_count": 115,
   "id": "0b5eb078",
   "metadata": {},
   "outputs": [
    {
     "data": {
      "text/plain": [
       "{'gen1': 'ATCGTAGC',\n",
       " 'gen2': 'TCTAGTACG',\n",
       " 'gen3': 'TGCATGATC',\n",
       " 'gen4': 'GTCTAGAGT'}"
      ]
     },
     "execution_count": 115,
     "metadata": {},
     "output_type": "execute_result"
    }
   ],
   "source": [
    "genes"
   ]
  },
  {
   "cell_type": "markdown",
   "id": "3b6a2330",
   "metadata": {},
   "source": [
    "## Bash on Python Notebooks (or Google Collab)\n",
    "Just use ! or %"
   ]
  },
  {
   "cell_type": "code",
   "execution_count": 11,
   "id": "a50fd461",
   "metadata": {},
   "outputs": [
    {
     "name": "stdout",
     "output_type": "stream",
     "text": [
      "hello\r\n"
     ]
    }
   ],
   "source": [
    "!echo \"hello\""
   ]
  },
  {
   "cell_type": "code",
   "execution_count": 13,
   "id": "3b5affd6",
   "metadata": {},
   "outputs": [
    {
     "name": "stdout",
     "output_type": "stream",
     "text": [
      "jupyter-py-practice.ipynb\r\n"
     ]
    }
   ],
   "source": [
    "!ls"
   ]
  },
  {
   "cell_type": "code",
   "execution_count": 15,
   "id": "f1c2915e",
   "metadata": {},
   "outputs": [
    {
     "name": "stdout",
     "output_type": "stream",
     "text": [
      "/home/josue/bioinfo_projects/pynb\r\n"
     ]
    }
   ],
   "source": [
    "!pwd"
   ]
  },
  {
   "cell_type": "code",
   "execution_count": 19,
   "id": "546228a1",
   "metadata": {},
   "outputs": [
    {
     "name": "stdout",
     "output_type": "stream",
     "text": [
      "total 28K\r\n",
      "drwxrwx--- 5 josue vboxsf 4.0K sep 20 16:17 bioinfo-learning\r\n",
      "drwxrwxr-x 4 josue josue  4.0K sep 17 21:02 git-projects\r\n",
      "drwxrwxr-x 3 josue josue  4.0K oct 18 23:00 natam_talk\r\n",
      "drwxrwxr-x 2 josue josue  4.0K nov  6 23:11 nextflow-training\r\n",
      "drwxrwxr-x 4 josue josue  4.0K sep 22 20:56 plasmids_project\r\n",
      "drwxrwxr-x 3 josue josue  4.0K nov 20 22:44 pynb\r\n",
      "drwxrwxr-x 2 josue josue  4.0K jul 15 00:39 rna-seq_learning\r\n"
     ]
    }
   ],
   "source": [
    "!ls -lh .."
   ]
  }
 ],
 "metadata": {
  "kernelspec": {
   "display_name": "Python 3 (ipykernel)",
   "language": "python",
   "name": "python3"
  },
  "language_info": {
   "codemirror_mode": {
    "name": "ipython",
    "version": 3
   },
   "file_extension": ".py",
   "mimetype": "text/x-python",
   "name": "python",
   "nbconvert_exporter": "python",
   "pygments_lexer": "ipython3",
   "version": "3.10.4"
  }
 },
 "nbformat": 4,
 "nbformat_minor": 5
}
